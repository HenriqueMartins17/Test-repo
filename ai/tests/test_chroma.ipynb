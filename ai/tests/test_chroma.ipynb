{
 "cells": [
  {
   "attachments": {},
   "cell_type": "markdown",
   "metadata": {},
   "source": [
    "# Test Chroma"
   ]
  },
  {
   "attachments": {},
   "cell_type": "markdown",
   "metadata": {},
   "source": [
    "\n",
    "Please confirm `chromadb` installed\n",
    "```shell\n",
    "poetry add chromadb\n",
    "```"
   ]
  },
  {
   "cell_type": "code",
   "execution_count": 18,
   "metadata": {},
   "outputs": [
    {
     "name": "stderr",
     "output_type": "stream",
     "text": [
      "Created a chunk of size 3836, which is longer than the specified 1024\n"
     ]
    },
    {
     "name": "stdout",
     "output_type": "stream",
     "text": [
      "Save the vector store to disk: .data/ai_server_test_chroma_20230623095643\n",
      "All collections:\n",
      "[Collection(name=test_chroma)]\n",
      "Similar documents: \n"
     ]
    },
    {
     "name": "stderr",
     "output_type": "stream",
     "text": [
      "Number of requested results 4 is greater than number of elements in index 2, updating n_results = 2\n"
     ]
    },
    {
     "name": "stdout",
     "output_type": "stream",
     "text": [
      "[Document(page_content='Getting Started with APITable | APITable Help Center', metadata={'source': 'https://help.apitable.com/docs/guide/tutorial-1-quick-start', 'title': 'Getting Started with APITable | APITable Help Center', 'description': 'Welcome to APITable！', 'language': 'en'}), Document(page_content='Skip to main content😝 APITable is still work in progress, And some features introduced here may not be found in the Github repository.TutorialManualFAQChangelogGo to APITablectrlKHelp CenterQuick StartStart with APITableStart with SpaceStart with DatasheetView CustomizationGet to Know FormulasManualConnectionFAQsQuick StartStart with APITableOn this pageGetting Started with APITableWelcome to APITable！APITable is an innovative management tool of digital data, based on the flexible multi-dimensional spreadsheet.APITable origins from a pure idea: if there was a tool able to make software development and design 100 times easier, and enable everyone to become their own software designer, it would be great.Unlike traditional spreadsheets or project collaboration tools, APITable is more like a flexible and easy-to-use database that can seamlessly connect any information and data together to build perfect custom workflows.It is also a simple and intuitive data collaboration platform that can adapt to continuously changing requirements of teams, helping making adjustment of working progress, standardizing business processes, facilitating team collaboration, and enabling data tracking.Five Components of APITable\\u200bSpace\\u200bA space is a collection of all collaborative projects.It\\'s like a virtual office, allowing team members to have a shared workspace to manage all their projects.Datasheet\\u200bAPITable is used to collect, store, and manage your business and project data.With similarity of spreadsheet, it incorporates powerful and extensive features: rich dimensional column types, rainbow tag, attachments, table association, data linkage, operation history, open cloud and other multi-dimensional integration capabilities.You can quickly build a \"data engine\" that meets the different needs of individuals and your enterprise, connecting everything based on data structures.View\\u200bIn addition to the standard view of grid, there are many other ways to display data.With different views, you can process and manage data more efficiently and intuitively, and customize the forms of displaying data properly. Six types of view are available in APITable.Grid view:  A view is suitable for directly and intuitively adding, editing, displaying a large amount of information at the same time.Album view: A view consists of small cards with highlighting the images of records.Board view: A view is ideal for showcasing task progress, making project management and task assignment more easier.Gantt: A view of horizontal timeline showing the task sequence and duration and helping manage overall projects.Calendar: A clear view of all schedules in a month, providing teams and individuals with a visual calendar planner.Architecture view: A view showing the hierarchy information. By dragging the cards, you can structure the information and build a delicate description of a enterprise organization.Dashboard and widgets\\u200bA dashboard is a new file type that acts like a container, allowing data to be extended with more capabilities by using various widgets.No code, simply drag and drop, your data can be visualized.Users\\' roles and permissions\\u200bAfter creating a space, you are the master administrator of the space and have unrestricted permissions in the space.You can friends or team members to work together in your space, and assign them as sub-administrators to give certain specific permissions. Invite collaboratorsAssign sub-administratorLast updated on May 15, 2023PreviousQuick StartNextStart with SpaceFive Components of APITableSpaceDatasheetViewDashboard and widgetsUsers\\' roles and permissionsAPITablePricingTemplatesEnterpriseAbout UsCareersPressFeaturesMagic FormsMirrorsAutomation RobotsWidgetsDashboardsGanttGalleryResourcesTutorialManualChangelogDeveloper CenterGitHubCopyright © 2022 APITable. All rights reserved.', metadata={'source': 'https://help.apitable.com/docs/guide/tutorial-1-quick-start', 'title': 'Getting Started with APITable | APITable Help Center', 'description': 'Welcome to APITable！', 'language': 'en'})]\n"
     ]
    }
   ],
   "source": [
    "import datetime\n",
    "from ai_server.shared.vectorstore_helper import get_persistent_name\n",
    "from ai_server.trainers.base_trainer import BaseTrainer\n",
    "import os\n",
    "from langchain.embeddings.openai import OpenAIEmbeddings\n",
    "from langchain.vectorstores import Chroma\n",
    "from langchain.document_loaders import WebBaseLoader\n",
    "from langchain.text_splitter import CharacterTextSplitter\n",
    "import os\n",
    "from dotenv import load_dotenv\n",
    "load_dotenv('../')\n",
    "\n",
    "OPENAI_API_KEY = os.getenv('OPENAI_API_KEY')\n",
    "\n",
    "loader = WebBaseLoader([\n",
    "        \"https://help.apitable.com/docs/guide/tutorial-1-quick-start\",\n",
    "    ])\n",
    "\n",
    "docs = loader.load()\n",
    "# Split the documents into smaller chunks\n",
    "text_splitter = CharacterTextSplitter(chunk_size=1024, chunk_overlap=0)\n",
    "docs = text_splitter.split_documents(docs)\n",
    "# Use the WebBaseLoader to load specified web pages into documents\n",
    "# Set up an embedding model to covert documents into vector embeddings\n",
    "embeddings = OpenAIEmbeddings(model=\"ada\")\n",
    "\n",
    "persist_name = get_persistent_name(\"test_chroma\")\n",
    "persist_directory = f\".data/{persist_name}\"\n",
    "\n",
    "# Set up a vector store used to save the vector embeddings. Here we use Milvus as the vector store\n",
    "vector_store = Chroma.from_documents(\n",
    "    docs,\n",
    "    embedding=embeddings,\n",
    "    persist_directory=persist_directory,\n",
    "    collection_name=\"test_chroma\",\n",
    ") \n",
    "print(f\"Save the vector store to disk: {persist_directory}\")\n",
    "\n",
    "print(\"All collections:\")\n",
    "client = vector_store._client\n",
    "print(client.list_collections())\n",
    "\n",
    "print(\"Similar documents: \")\n",
    "query = \"What is APITable?\"\n",
    "docs = vector_store.similarity_search(query)\n",
    "print(docs)"
   ]
  }
 ],
 "metadata": {
  "kernelspec": {
   "display_name": ".venv",
   "language": "python",
   "name": "python3"
  },
  "language_info": {
   "codemirror_mode": {
    "name": "ipython",
    "version": 3
   },
   "file_extension": ".py",
   "mimetype": "text/x-python",
   "name": "python",
   "nbconvert_exporter": "python",
   "pygments_lexer": "ipython3",
   "version": "3.10.6"
  },
  "orig_nbformat": 4
 },
 "nbformat": 4,
 "nbformat_minor": 2
}
